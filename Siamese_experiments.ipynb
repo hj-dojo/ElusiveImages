{
 "cells": [
  {
   "cell_type": "code",
   "execution_count": null,
   "outputs": [],
   "source": [
    "# Setup for collab, commment out otherwise\n",
    "from google.colab import drive\n",
    "drive.mount(\"/content/drive\", force_remount=True)\n",
    "\n",
    "# Change directory to the package folder\n",
    "%cd '/content/drive/MyDrive/ElusiveImages'\n",
    "# Verify the contents of the current folder\n",
    "#!ls\n",
    "# Install the requirements with pip\n",
    "!pip install -r collab_requirements.txt"
   ],
   "metadata": {
    "collapsed": false,
    "pycharm": {
     "name": "#%%\n"
    }
   }
  },
  {
   "cell_type": "code",
   "execution_count": null,
   "outputs": [],
   "source": [
    "import numpy as np\n",
    "import torch\n",
    "\n",
    "torch.cuda.empty_cache()\n",
    "import torchvision.models as tvmodels\n",
    "import torchvision.transforms as transforms\n",
    "import yaml\n",
    "from PIL import Image\n",
    "from torch.utils.data import DataLoader\n",
    "from tqdm.notebook import tqdm\n",
    "from database import BaseDatabase\n",
    "from models import SiameseNet\n",
    "from dataset import TripletData\n",
    "from dataset import ContrastiveData\n",
    "from dataset import QuadrupletData\n",
    "from loss import TripletLoss\n",
    "from loss import ContrastiveLoss\n",
    "from loss import QuadrupletLoss\n",
    "from MLPMixer.models.modeling import MlpMixer, CONFIGS\n",
    "from torch import nn\n",
    "import logging as log\n",
    "from utils.MAP import compute_map\n",
    "import matplotlib.pyplot as plt\n",
    "from train import *"
   ],
   "metadata": {
    "collapsed": false,
    "pycharm": {
     "name": "#%%\n"
    }
   }
  },
  {
   "cell_type": "code",
   "execution_count": null,
   "outputs": [
    {
     "name": "stdout",
     "output_type": "stream",
     "text": [
      "Setting seed value to 123456 for reproducing results\n",
      "[INFO] RUNNING VALIDATION AT EPOCH 0\n",
      "building database\n",
      "Saving database to siamesedb\n",
      "[INFO] CATEGORY MATCHES: 82/272: 0.3015\n",
      "[INFO] Training Epoch 0\n"
     ]
    },
    {
     "data": {
      "text/plain": "  0%|          | 0/5 [00:00<?, ?it/s]",
      "application/vnd.jupyter.widget-view+json": {
       "version_major": 2,
       "version_minor": 0,
       "model_id": "415540ea6e2249f29bad25545f261a49"
      }
     },
     "metadata": {},
     "output_type": "display_data"
    },
    {
     "name": "stdout",
     "output_type": "stream",
     "text": [
      "[INFO] Validating Epoch 0\n"
     ]
    },
    {
     "data": {
      "text/plain": "  0%|          | 0/2 [00:00<?, ?it/s]",
      "application/vnd.jupyter.widget-view+json": {
       "version_major": 2,
       "version_minor": 0,
       "model_id": "085cadf3b7c542b0a5f971e1a2fadc99"
      }
     },
     "metadata": {},
     "output_type": "display_data"
    },
    {
     "name": "stdout",
     "output_type": "stream",
     "text": [
      "[INFO] epoch 0: Loss = 98.17650604248047, Validation Loss = 4.712273597717285\n",
      "[INFO] Training Epoch 1\n"
     ]
    },
    {
     "data": {
      "text/plain": "  0%|          | 0/5 [00:00<?, ?it/s]",
      "application/vnd.jupyter.widget-view+json": {
       "version_major": 2,
       "version_minor": 0,
       "model_id": "5a74a49fb1d34939951c1eac9f19c856"
      }
     },
     "metadata": {},
     "output_type": "display_data"
    },
    {
     "name": "stdout",
     "output_type": "stream",
     "text": [
      "[INFO] Validating Epoch 1\n"
     ]
    },
    {
     "data": {
      "text/plain": "  0%|          | 0/2 [00:00<?, ?it/s]",
      "application/vnd.jupyter.widget-view+json": {
       "version_major": 2,
       "version_minor": 0,
       "model_id": "67788d2da9b949a7a1e87b893372dfa8"
      }
     },
     "metadata": {},
     "output_type": "display_data"
    },
    {
     "name": "stdout",
     "output_type": "stream",
     "text": [
      "[INFO] epoch 1: Loss = 59.17056655883789, Validation Loss = 6.747849464416504\n",
      "[INFO] Training Epoch 2\n"
     ]
    },
    {
     "data": {
      "text/plain": "  0%|          | 0/5 [00:00<?, ?it/s]",
      "application/vnd.jupyter.widget-view+json": {
       "version_major": 2,
       "version_minor": 0,
       "model_id": "78786c8adae24eb2814651c151be8669"
      }
     },
     "metadata": {},
     "output_type": "display_data"
    },
    {
     "name": "stdout",
     "output_type": "stream",
     "text": [
      "[INFO] Validating Epoch 2\n"
     ]
    },
    {
     "data": {
      "text/plain": "  0%|          | 0/2 [00:00<?, ?it/s]",
      "application/vnd.jupyter.widget-view+json": {
       "version_major": 2,
       "version_minor": 0,
       "model_id": "24304aaa3a9f4745bfc9b10b9e2cb660"
      }
     },
     "metadata": {},
     "output_type": "display_data"
    }
   ],
   "source": [
    "# Seed value to reproduce results\n",
    "seed_value = 123456\n",
    "set_seed(seed_value)\n",
    "\n",
    "all_params = {'batch_size': 256, 'learning_rate': 0.0001, 'reg': 0.05, 'epochs': 25, 'momentum': .9,\n",
    "              'validevery': 100, 'train_path': 'dataset/flowers/train',\n",
    "              'test_path': 'dataset/flowers/test',\n",
    "              'val_path': 'dataset/flowers/test', 'optimizer': 'adam', 'data_size': 1000,\n",
    "              'model': 'SiameseNet', 'category': 'resnet18', 'pretrain': False,\n",
    "              'data': 'dataset/flowers', 'img_h': 384, 'img_w': 384, 'faiss_db': 'siamesedb',\n",
    "              'save_db': True, 'loss_type': 'ContrastiveLoss', 'dataset': 'ContrastiveData',\n",
    "              'loglevel': 'info', 'logdir': 'logs'}\n",
    "\n",
    "log_file_name = setup_logging(all_params, seed_value)\n",
    "run_experiment(all_params, log_file_name)"
   ],
   "metadata": {
    "collapsed": false,
    "pycharm": {
     "name": "#%%\n"
    }
   }
  },
  {
   "cell_type": "code",
   "execution_count": null,
   "outputs": [],
   "source": [
    "seed_value = 123456\n",
    "set_seed(seed_value)\n",
    "\n",
    "all_params = {'batch_size': 32, 'learning_rate': 0.0001, 'reg': 0.05, 'epochs': 25, 'momentum': .9,\n",
    "              'validevery': 100, 'train_path': 'dataset/flowers/train',\n",
    "              'test_path': 'dataset/flowers/test',\n",
    "              'val_path': 'dataset/flowers/test', 'optimizer': 'adam', 'data_size': 1000,\n",
    "              'model': 'SiameseNet', 'category': 'resnet18', 'pretrain': False,\n",
    "              'data': 'dataset/flowers', 'img_h': 384, 'img_w': 384, 'faiss_db': 'siamesedb',\n",
    "              'save_db': True, 'loss_type': 'TripletLoss', 'dataset': 'TripletData',\n",
    "              'loglevel': 'info', 'logdir': 'logs'}\n",
    "\n",
    "log_file_name = setup_logging(all_params, seed_value)\n",
    "run_experiment(all_params, log_file_name)"
   ],
   "metadata": {
    "collapsed": false,
    "pycharm": {
     "name": "#%%\n"
    }
   }
  },
  {
   "cell_type": "code",
   "execution_count": null,
   "outputs": [
    {
     "name": "stdout",
     "output_type": "stream",
     "text": [
      "Setting seed value to 123456 for reproducing results\n",
      "[INFO] RUNNING VALIDATION AT EPOCH 0\n",
      "building database\n",
      "Saving database to siamesedb\n",
      "[INFO] CATEGORY MATCHES: 96/272: 0.3529\n",
      "[INFO] Training Epoch 0\n"
     ]
    },
    {
     "data": {
      "text/plain": "  0%|          | 0/11 [00:00<?, ?it/s]",
      "application/vnd.jupyter.widget-view+json": {
       "version_major": 2,
       "version_minor": 0,
       "model_id": "06f4da6b9b5549ecaee5bf96bd75da9b"
      }
     },
     "metadata": {},
     "output_type": "display_data"
    },
    {
     "name": "stdout",
     "output_type": "stream",
     "text": [
      "[INFO] Validating Epoch 0\n"
     ]
    },
    {
     "data": {
      "text/plain": "  0%|          | 0/11 [00:00<?, ?it/s]",
      "application/vnd.jupyter.widget-view+json": {
       "version_major": 2,
       "version_minor": 0,
       "model_id": "1dd2e080763940b1b8f63a04f96f7fdc"
      }
     },
     "metadata": {},
     "output_type": "display_data"
    },
    {
     "name": "stdout",
     "output_type": "stream",
     "text": [
      "[INFO] epoch 0: Loss = 42.48470687866211, Validation Loss = 29.977588653564453\n",
      "[INFO] Training Epoch 1\n"
     ]
    },
    {
     "data": {
      "text/plain": "  0%|          | 0/11 [00:00<?, ?it/s]",
      "application/vnd.jupyter.widget-view+json": {
       "version_major": 2,
       "version_minor": 0,
       "model_id": "99b5399e98f54e6b940d6a28e391d624"
      }
     },
     "metadata": {},
     "output_type": "display_data"
    },
    {
     "name": "stdout",
     "output_type": "stream",
     "text": [
      "[INFO] Validating Epoch 1\n"
     ]
    },
    {
     "data": {
      "text/plain": "  0%|          | 0/11 [00:00<?, ?it/s]",
      "application/vnd.jupyter.widget-view+json": {
       "version_major": 2,
       "version_minor": 0,
       "model_id": "266b521660484300bd94958d0f28399e"
      }
     },
     "metadata": {},
     "output_type": "display_data"
    },
    {
     "name": "stdout",
     "output_type": "stream",
     "text": [
      "[INFO] epoch 1: Loss = 24.766765594482422, Validation Loss = 23.136381149291992\n",
      "[INFO] Training Epoch 2\n"
     ]
    },
    {
     "data": {
      "text/plain": "  0%|          | 0/11 [00:00<?, ?it/s]",
      "application/vnd.jupyter.widget-view+json": {
       "version_major": 2,
       "version_minor": 0,
       "model_id": "d5f1ce11cd7344358cc3d3a5cf9ecf8e"
      }
     },
     "metadata": {},
     "output_type": "display_data"
    },
    {
     "name": "stdout",
     "output_type": "stream",
     "text": [
      "[INFO] Validating Epoch 2\n"
     ]
    },
    {
     "data": {
      "text/plain": "  0%|          | 0/11 [00:00<?, ?it/s]",
      "application/vnd.jupyter.widget-view+json": {
       "version_major": 2,
       "version_minor": 0,
       "model_id": "58efad8b35bb4c7bbb816a3b09e8b979"
      }
     },
     "metadata": {},
     "output_type": "display_data"
    },
    {
     "name": "stdout",
     "output_type": "stream",
     "text": [
      "Couldn't find new triplet\n",
      "[INFO] epoch 2: Loss = 18.91363525390625, Validation Loss = 17.921783447265625\n",
      "[INFO] Training Epoch 3\n"
     ]
    },
    {
     "data": {
      "text/plain": "  0%|          | 0/11 [00:00<?, ?it/s]",
      "application/vnd.jupyter.widget-view+json": {
       "version_major": 2,
       "version_minor": 0,
       "model_id": "195178d12b0341ac914816069c4a0876"
      }
     },
     "metadata": {},
     "output_type": "display_data"
    },
    {
     "name": "stdout",
     "output_type": "stream",
     "text": [
      "[INFO] Validating Epoch 3\n"
     ]
    },
    {
     "data": {
      "text/plain": "  0%|          | 0/11 [00:00<?, ?it/s]",
      "application/vnd.jupyter.widget-view+json": {
       "version_major": 2,
       "version_minor": 0,
       "model_id": "bf130319e82b4bd5a1d2ffd3c1513462"
      }
     },
     "metadata": {},
     "output_type": "display_data"
    },
    {
     "name": "stdout",
     "output_type": "stream",
     "text": [
      "Couldn't find new triplet\n",
      "[INFO] Validating Epoch 5\n"
     ]
    },
    {
     "data": {
      "text/plain": "  0%|          | 0/11 [00:00<?, ?it/s]",
      "application/vnd.jupyter.widget-view+json": {
       "version_major": 2,
       "version_minor": 0,
       "model_id": "a46c0aa2c05047e3bfdf500a57ee172f"
      }
     },
     "metadata": {},
     "output_type": "display_data"
    },
    {
     "name": "stdout",
     "output_type": "stream",
     "text": [
      "Couldn't find new triplet\n",
      "[INFO] epoch 5: Loss = 14.975927352905273, Validation Loss = 12.776968002319336\n",
      "[INFO] Training Epoch 6\n"
     ]
    },
    {
     "data": {
      "text/plain": "  0%|          | 0/11 [00:00<?, ?it/s]",
      "application/vnd.jupyter.widget-view+json": {
       "version_major": 2,
       "version_minor": 0,
       "model_id": "73f9e289859c452b906c742fd4e3c977"
      }
     },
     "metadata": {},
     "output_type": "display_data"
    },
    {
     "name": "stdout",
     "output_type": "stream",
     "text": [
      "[INFO] Validating Epoch 6\n"
     ]
    },
    {
     "data": {
      "text/plain": "  0%|          | 0/11 [00:00<?, ?it/s]",
      "application/vnd.jupyter.widget-view+json": {
       "version_major": 2,
       "version_minor": 0,
       "model_id": "20afe81881064eaabe98348aae9698e6"
      }
     },
     "metadata": {},
     "output_type": "display_data"
    },
    {
     "name": "stdout",
     "output_type": "stream",
     "text": [
      "Couldn't find new triplet\n",
      "[INFO] epoch 6: Loss = 12.76438045501709, Validation Loss = 14.81568717956543\n",
      "[INFO] Training Epoch 7\n"
     ]
    },
    {
     "data": {
      "text/plain": "  0%|          | 0/11 [00:00<?, ?it/s]",
      "application/vnd.jupyter.widget-view+json": {
       "version_major": 2,
       "version_minor": 0,
       "model_id": "663aaba9f5ce4383a2e6e43495d78f26"
      }
     },
     "metadata": {},
     "output_type": "display_data"
    }
   ],
   "source": [
    "seed_value = 123456\n",
    "set_seed(seed_value)\n",
    "\n",
    "all_params = {'batch_size': 32, 'learning_rate': 0.0001, 'reg': 0.05, 'epochs': 25, 'momentum': .9,\n",
    "              'validevery': 100, 'train_path': 'dataset/flowers/train',\n",
    "              'test_path': 'dataset/flowers/test',\n",
    "              'val_path': 'dataset/flowers/test', 'optimizer': 'adam', 'data_size': 1000,\n",
    "              'model': 'SiameseNet', 'category': 'resnet18', 'pretrain': False,\n",
    "              'data': 'dataset/flowers', 'img_h': 384, 'img_w': 384, 'faiss_db': 'siamesedb',\n",
    "              'save_db': True, 'loss_type': 'QuadrupletLoss', 'dataset': 'QuadrupletData',\n",
    "              'loglevel': 'info', 'logdir': 'logs'}\n",
    "\n",
    "log_file_name = setup_logging(all_params, seed_value)\n",
    "run_experiment(all_params, log_file_name)"
   ],
   "metadata": {
    "collapsed": false,
    "pycharm": {
     "name": "#%%\n",
     "is_executing": true
    }
   }
  },
  {
   "cell_type": "code",
   "execution_count": null,
   "outputs": [],
   "source": [],
   "metadata": {
    "collapsed": false,
    "pycharm": {
     "name": "#%%\n"
    }
   }
  }
 ],
 "metadata": {
  "kernelspec": {
   "display_name": "Python 3 (ipykernel)",
   "language": "python",
   "name": "python3"
  },
  "language_info": {
   "codemirror_mode": {
    "name": "ipython",
    "version": 3
   },
   "file_extension": ".py",
   "mimetype": "text/x-python",
   "name": "python",
   "nbconvert_exporter": "python",
   "pygments_lexer": "ipython3",
   "version": "3.8.13"
  }
 },
 "nbformat": 4,
 "nbformat_minor": 5
}