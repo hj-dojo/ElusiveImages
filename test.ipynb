{
 "cells": [],
 "metadata": {
  "interpreter": {
   "hash": "197002598fa13a35cd8be17fa0f14bbbea222e9acfadf33ec726d8459714590d"
  },
  "kernelspec": {
   "display_name": "Python 3.9.7 ('elusiveimages-sM0XyDVb-py3.9')",
   "language": "python",
   "name": "python3"
  },
  "language_info": {
   "codemirror_mode": {
    "name": "ipython",
    "version": 3
   },
   "file_extension": ".py",
   "mimetype": "text/x-python",
   "name": "python",
   "nbconvert_exporter": "python",
   "pygments_lexer": "ipython3",
   "version": "3.9.7"
  },
  "orig_nbformat": 4
 },
 "nbformat": 4,
 "nbformat_minor": 2
}
